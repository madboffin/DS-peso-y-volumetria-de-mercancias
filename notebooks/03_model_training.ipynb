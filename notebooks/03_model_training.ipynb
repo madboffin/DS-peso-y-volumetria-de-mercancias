{
 "cells": [
  {
   "cell_type": "code",
   "execution_count": null,
   "id": "431c5d62",
   "metadata": {},
   "outputs": [
    {
     "data": {
      "text/html": [
       "<div>\n",
       "<style scoped>\n",
       "    .dataframe tbody tr th:only-of-type {\n",
       "        vertical-align: middle;\n",
       "    }\n",
       "\n",
       "    .dataframe tbody tr th {\n",
       "        vertical-align: top;\n",
       "    }\n",
       "\n",
       "    .dataframe thead th {\n",
       "        text-align: right;\n",
       "    }\n",
       "</style>\n",
       "<table border=\"1\" class=\"dataframe\">\n",
       "  <thead>\n",
       "    <tr style=\"text-align: right;\">\n",
       "      <th></th>\n",
       "      <th>sku</th>\n",
       "      <th>gtin</th>\n",
       "      <th>specifications</th>\n",
       "      <th>brand</th>\n",
       "      <th>description</th>\n",
       "      <th>product_name</th>\n",
       "      <th>review_tags</th>\n",
       "      <th>category_name</th>\n",
       "      <th>root_category_name</th>\n",
       "      <th>main_image</th>\n",
       "      <th>...</th>\n",
       "      <th>other_attributes_parsed</th>\n",
       "      <th>size_l</th>\n",
       "      <th>size_w</th>\n",
       "      <th>size_h</th>\n",
       "      <th>size_units</th>\n",
       "      <th>weight</th>\n",
       "      <th>weight_unit</th>\n",
       "      <th>weight_kg</th>\n",
       "      <th>weight_kg_source</th>\n",
       "      <th>volume_source</th>\n",
       "    </tr>\n",
       "  </thead>\n",
       "  <tbody>\n",
       "    <tr>\n",
       "      <th>643</th>\n",
       "      <td>1274809612</td>\n",
       "      <td>702298198680</td>\n",
       "      <td>[{\"name\":\"Features\",\"value\":\"Quick Drying, Lig...</td>\n",
       "      <td>Inadays</td>\n",
       "      <td>7-Inch Inseam Mens Swimming Trunks  Our swi...</td>\n",
       "      <td>Inadays Mens Swim Trunks with Compression Line...</td>\n",
       "      <td>[\"Fit (43)\",\"Quality (21)\",\"Comfort (20)\",\"Pri...</td>\n",
       "      <td>Mens Swimwear</td>\n",
       "      <td>Clothing</td>\n",
       "      <td>\"https://i5.walmartimages.com/seo/Inadays-Mens...</td>\n",
       "      <td>...</td>\n",
       "      <td>[{'name': 'Fabric Care Instructions', 'value':...</td>\n",
       "      <td>10.6</td>\n",
       "      <td>9.2</td>\n",
       "      <td>6.3</td>\n",
       "      <td>NaN</td>\n",
       "      <td>NaN</td>\n",
       "      <td>NaN</td>\n",
       "      <td>0.47</td>\n",
       "      <td>completed</td>\n",
       "      <td>completed</td>\n",
       "    </tr>\n",
       "  </tbody>\n",
       "</table>\n",
       "<p>1 rows × 26 columns</p>\n",
       "</div>"
      ],
      "text/plain": [
       "            sku          gtin  \\\n",
       "643  1274809612  702298198680   \n",
       "\n",
       "                                        specifications    brand  \\\n",
       "643  [{\"name\":\"Features\",\"value\":\"Quick Drying, Lig...  Inadays   \n",
       "\n",
       "                                           description  \\\n",
       "643     7-Inch Inseam Mens Swimming Trunks  Our swi...   \n",
       "\n",
       "                                          product_name  \\\n",
       "643  Inadays Mens Swim Trunks with Compression Line...   \n",
       "\n",
       "                                           review_tags  category_name  \\\n",
       "643  [\"Fit (43)\",\"Quality (21)\",\"Comfort (20)\",\"Pri...  Mens Swimwear   \n",
       "\n",
       "    root_category_name                                         main_image  \\\n",
       "643           Clothing  \"https://i5.walmartimages.com/seo/Inadays-Mens...   \n",
       "\n",
       "     ...                            other_attributes_parsed size_l size_w  \\\n",
       "643  ...  [{'name': 'Fabric Care Instructions', 'value':...   10.6    9.2   \n",
       "\n",
       "    size_h size_units weight weight_unit  weight_kg  weight_kg_source  \\\n",
       "643    6.3        NaN    NaN         NaN       0.47         completed   \n",
       "\n",
       "     volume_source  \n",
       "643      completed  \n",
       "\n",
       "[1 rows x 26 columns]"
      ]
     },
     "execution_count": 2,
     "metadata": {},
     "output_type": "execute_result"
    }
   ],
   "source": [
    "import os\n",
    "import joblib\n",
    "\n",
    "from dotenv import load_dotenv\n",
    "from google import genai\n",
    "import pandas as pd\n",
    "import numpy as np\n",
    "import spacy\n",
    "\n",
    "load_dotenv()\n",
    "path = \"../data/processed/market_products_features.csv\"\n",
    "dtypes = {\"sku\": str, \"gtin\": str}\n",
    "df = pd.read_csv(path, dtype=dtypes, index_col=0, sep=\"|\")\n",
    "df.sample()"
   ]
  },
  {
   "cell_type": "markdown",
   "id": "3b17da2b",
   "metadata": {},
   "source": [
    "Las siguientes son posibles candidatos para embeddings\n",
    "* specifications (limpiar)\n",
    "* description\n",
    "* product_name\n",
    "* sizes (limpiar)"
   ]
  },
  {
   "cell_type": "code",
   "execution_count": 3,
   "id": "a622e762",
   "metadata": {},
   "outputs": [
    {
     "data": {
      "text/plain": [
       "count    878.000000\n",
       "mean       1.680210\n",
       "std        5.196577\n",
       "min        0.005377\n",
       "25%        0.470000\n",
       "50%        0.470000\n",
       "75%        0.796402\n",
       "max       57.380400\n",
       "Name: weight_kg, dtype: float64"
      ]
     },
     "execution_count": 3,
     "metadata": {},
     "output_type": "execute_result"
    }
   ],
   "source": [
    "df[\"weight_kg\"].describe()"
   ]
  },
  {
   "cell_type": "code",
   "execution_count": null,
   "id": "bbee2f38",
   "metadata": {},
   "outputs": [
    {
     "data": {
      "image/png": "[encoded data removed]",
      "text/plain": [
       "<Figure size 640x480 with 1 Axes>"
      ]
     },
     "metadata": {},
     "output_type": "display_data"
    }
   ],
   "source": [
    "import seaborn as sns\n",
    "import matplotlib.pyplot as plt\n",
    "\n",
    "sns.set_theme()\n",
    "sns.histplot(df[\"weight_kg\"], log_scale=True)\n",
    "plt.title(\"Histogram Weights (kg)\")\n",
    "plt.show()"
   ]
  },
  {
   "cell_type": "markdown",
   "id": "9a52bac1",
   "metadata": {},
   "source": [
    "La asimetria en la distribusion del peso puede ser un reto para los modelos, una libreria como [smogn](https://pypi.org/project/smogn/) puede dar como resultado mejores modelos."
   ]
  },
  {
   "cell_type": "markdown",
   "id": "5396018e",
   "metadata": {},
   "source": [
    "# Embeddings"
   ]
  },
  {
   "cell_type": "code",
   "execution_count": 5,
   "id": "b151eaeb",
   "metadata": {},
   "outputs": [
    {
     "name": "stdout",
     "output_type": "stream",
     "text": [
      "['tok2vec', 'tagger', 'attribute_ruler', 'lemmatizer']\n"
     ]
    }
   ],
   "source": [
    "nlp = spacy.load(\"en_core_web_md\")\n",
    "nlp.disable_pipes(\"parser\", \"ner\")\n",
    "print(nlp.pipe_names)"
   ]
  },
  {
   "cell_type": "code",
   "execution_count": null,
   "id": "cbf86ee4",
   "metadata": {},
   "outputs": [
    {
     "data": {
      "text/plain": [
       "0    [-0.6645359, 0.25058463, -0.085736245, 0.30602...\n",
       "1    [-0.5852896, 0.021247137, -0.16949064, -0.0435...\n",
       "2    [-0.65554154, 0.14395839, -0.02887265, 0.15746...\n",
       "3    [-0.67238826, -0.06380527, -0.15272984, 0.0498...\n",
       "4    [-0.7162662, 0.047542773, -0.10108063, 0.02942...\n",
       "Name: product_name_vector, dtype: object"
      ]
     },
     "execution_count": 9,
     "metadata": {},
     "output_type": "execute_result"
    }
   ],
   "source": [
    "# Genera los vectores usando el modelo de spacy\n",
    "df[\"product_name_vector\"] = df[\"product_name\"].apply(lambda x: nlp(x).vector)\n",
    "df[\"product_name_vector\"].head()"
   ]
  },
  {
   "cell_type": "markdown",
   "id": "c51a9661",
   "metadata": {},
   "source": [
    "# Training data"
   ]
  },
  {
   "cell_type": "code",
   "execution_count": 12,
   "id": "7d085844",
   "metadata": {},
   "outputs": [
    {
     "name": "stdout",
     "output_type": "stream",
     "text": [
      "weight_kg_source\n",
      "completed    667\n",
      "extracted    211\n",
      "missing       22\n",
      "Name: count, dtype: int64\n"
     ]
    },
    {
     "data": {
      "text/html": [
       "<div>\n",
       "<style scoped>\n",
       "    .dataframe tbody tr th:only-of-type {\n",
       "        vertical-align: middle;\n",
       "    }\n",
       "\n",
       "    .dataframe tbody tr th {\n",
       "        vertical-align: top;\n",
       "    }\n",
       "\n",
       "    .dataframe thead th {\n",
       "        text-align: right;\n",
       "    }\n",
       "</style>\n",
       "<table border=\"1\" class=\"dataframe\">\n",
       "  <thead>\n",
       "    <tr style=\"text-align: right;\">\n",
       "      <th></th>\n",
       "      <th>sku</th>\n",
       "      <th>gtin</th>\n",
       "      <th>specifications</th>\n",
       "      <th>brand</th>\n",
       "      <th>description</th>\n",
       "      <th>product_name</th>\n",
       "      <th>review_tags</th>\n",
       "      <th>category_name</th>\n",
       "      <th>root_category_name</th>\n",
       "      <th>main_image</th>\n",
       "      <th>...</th>\n",
       "      <th>size_l</th>\n",
       "      <th>size_w</th>\n",
       "      <th>size_h</th>\n",
       "      <th>size_units</th>\n",
       "      <th>weight</th>\n",
       "      <th>weight_unit</th>\n",
       "      <th>weight_kg</th>\n",
       "      <th>weight_kg_source</th>\n",
       "      <th>volume_source</th>\n",
       "      <th>product_name_vector</th>\n",
       "    </tr>\n",
       "  </thead>\n",
       "  <tbody>\n",
       "    <tr>\n",
       "      <th>524</th>\n",
       "      <td>896599636</td>\n",
       "      <td>754168196449</td>\n",
       "      <td>[{\"name\":\"Brand\",\"value\":\"VOUA\"},{\"name\":\"Bed ...</td>\n",
       "      <td>VOUA</td>\n",
       "      <td>Peach-skin fabric surface - Extremely soft ...</td>\n",
       "      <td>Comforter Full Red All Season Down Alternative...</td>\n",
       "      <td>[\"Comfort (65)\",\"Color (47)\",\"Price (43)\",\"Qua...</td>\n",
       "      <td>Down Alternative Comforters</td>\n",
       "      <td>Home</td>\n",
       "      <td>\"https://i5.walmartimages.com/seo/Comforter-Fu...</td>\n",
       "      <td>...</td>\n",
       "      <td>54.00</td>\n",
       "      <td>48.40</td>\n",
       "      <td>7.10</td>\n",
       "      <td>NaN</td>\n",
       "      <td>6.00</td>\n",
       "      <td>lb</td>\n",
       "      <td>2.721600</td>\n",
       "      <td>extracted</td>\n",
       "      <td>completed</td>\n",
       "      <td>[-0.7045157, 0.21252277, -0.21872683, -0.05183...</td>\n",
       "    </tr>\n",
       "    <tr>\n",
       "      <th>122</th>\n",
       "      <td>1796059258</td>\n",
       "      <td>41877181171</td>\n",
       "      <td>[{\"name\":\"Country of Origin - Textiles\",\"value...</td>\n",
       "      <td>wendunide</td>\n",
       "      <td>The preferential price and the quality of the ...</td>\n",
       "      <td>wendunide summer dress Women's Vintage 1920s S...</td>\n",
       "      <td>[]</td>\n",
       "      <td>Womens Dresses</td>\n",
       "      <td>Clothing</td>\n",
       "      <td>\"https://i5.walmartimages.com/seo/wendunide-su...</td>\n",
       "      <td>...</td>\n",
       "      <td>11.76</td>\n",
       "      <td>7.92</td>\n",
       "      <td>0.84</td>\n",
       "      <td>in</td>\n",
       "      <td>11.19</td>\n",
       "      <td>oz</td>\n",
       "      <td>0.316677</td>\n",
       "      <td>extracted</td>\n",
       "      <td>extracted</td>\n",
       "      <td>[-0.6975061, 0.036719713, -0.20524563, 0.21172...</td>\n",
       "    </tr>\n",
       "    <tr>\n",
       "      <th>531</th>\n",
       "      <td>187071360</td>\n",
       "      <td>47947773802</td>\n",
       "      <td>[{\"name\":\"Features\",\"value\":\"Elastic Waistband...</td>\n",
       "      <td>Soffe</td>\n",
       "      <td>SOFFE Mens AUTHENTIC SHORT (B037)</td>\n",
       "      <td>Mens AUTHENTIC SHORT (B037)</td>\n",
       "      <td>[\"Size (4)\"]</td>\n",
       "      <td>Womens Shorts</td>\n",
       "      <td>Clothing</td>\n",
       "      <td>\"https://i5.walmartimages.com/seo/Mens-AUTHENT...</td>\n",
       "      <td>...</td>\n",
       "      <td>10.60</td>\n",
       "      <td>9.20</td>\n",
       "      <td>6.30</td>\n",
       "      <td>NaN</td>\n",
       "      <td>4.32</td>\n",
       "      <td>oz</td>\n",
       "      <td>0.122256</td>\n",
       "      <td>extracted</td>\n",
       "      <td>completed</td>\n",
       "      <td>[-0.55859, 0.25011316, 0.08883851, -0.04877333...</td>\n",
       "    </tr>\n",
       "  </tbody>\n",
       "</table>\n",
       "<p>3 rows × 27 columns</p>\n",
       "</div>"
      ],
      "text/plain": [
       "            sku          gtin  \\\n",
       "524   896599636  754168196449   \n",
       "122  1796059258   41877181171   \n",
       "531   187071360   47947773802   \n",
       "\n",
       "                                        specifications      brand  \\\n",
       "524  [{\"name\":\"Brand\",\"value\":\"VOUA\"},{\"name\":\"Bed ...       VOUA   \n",
       "122  [{\"name\":\"Country of Origin - Textiles\",\"value...  wendunide   \n",
       "531  [{\"name\":\"Features\",\"value\":\"Elastic Waistband...      Soffe   \n",
       "\n",
       "                                           description  \\\n",
       "524     Peach-skin fabric surface - Extremely soft ...   \n",
       "122  The preferential price and the quality of the ...   \n",
       "531                  SOFFE Mens AUTHENTIC SHORT (B037)   \n",
       "\n",
       "                                          product_name  \\\n",
       "524  Comforter Full Red All Season Down Alternative...   \n",
       "122  wendunide summer dress Women's Vintage 1920s S...   \n",
       "531                        Mens AUTHENTIC SHORT (B037)   \n",
       "\n",
       "                                           review_tags  \\\n",
       "524  [\"Comfort (65)\",\"Color (47)\",\"Price (43)\",\"Qua...   \n",
       "122                                                 []   \n",
       "531                                       [\"Size (4)\"]   \n",
       "\n",
       "                   category_name root_category_name  \\\n",
       "524  Down Alternative Comforters               Home   \n",
       "122               Womens Dresses           Clothing   \n",
       "531                Womens Shorts           Clothing   \n",
       "\n",
       "                                            main_image  ... size_l size_w  \\\n",
       "524  \"https://i5.walmartimages.com/seo/Comforter-Fu...  ...  54.00  48.40   \n",
       "122  \"https://i5.walmartimages.com/seo/wendunide-su...  ...  11.76   7.92   \n",
       "531  \"https://i5.walmartimages.com/seo/Mens-AUTHENT...  ...  10.60   9.20   \n",
       "\n",
       "    size_h size_units weight weight_unit weight_kg  weight_kg_source  \\\n",
       "524   7.10        NaN   6.00          lb  2.721600         extracted   \n",
       "122   0.84         in  11.19          oz  0.316677         extracted   \n",
       "531   6.30        NaN   4.32          oz  0.122256         extracted   \n",
       "\n",
       "     volume_source                                product_name_vector  \n",
       "524      completed  [-0.7045157, 0.21252277, -0.21872683, -0.05183...  \n",
       "122      extracted  [-0.6975061, 0.036719713, -0.20524563, 0.21172...  \n",
       "531      completed  [-0.55859, 0.25011316, 0.08883851, -0.04877333...  \n",
       "\n",
       "[3 rows x 27 columns]"
      ]
     },
     "execution_count": 12,
     "metadata": {},
     "output_type": "execute_result"
    }
   ],
   "source": [
    "print(df[\"weight_kg_source\"].value_counts())\n",
    "has_weight = (df[\"weight_kg\"].notna()) & (df[\"weight_kg_source\"] == \"extracted\")\n",
    "df[has_weight].sample(3)"
   ]
  },
  {
   "cell_type": "code",
   "execution_count": 13,
   "id": "f4175620",
   "metadata": {},
   "outputs": [
    {
     "name": "stdout",
     "output_type": "stream",
     "text": [
      "(211, 27)\n",
      "(689, 27)\n"
     ]
    }
   ],
   "source": [
    "df_train = df[has_weight].copy()\n",
    "df_predict = df[~has_weight].copy()\n",
    "print(df_train.shape)\n",
    "print(df_predict.shape)"
   ]
  },
  {
   "cell_type": "markdown",
   "id": "7d56da84",
   "metadata": {},
   "source": [
    "# Models"
   ]
  },
  {
   "cell_type": "code",
   "execution_count": 94,
   "id": "e0047282",
   "metadata": {},
   "outputs": [],
   "source": [
    "def save_model(model, filename):\n",
    "    \"\"\"\n",
    "    Save a trained model to disk using joblib.\n",
    "\n",
    "    Parameters:\n",
    "        model: Trained model object (e.g., sklearn estimator)\n",
    "        filename: Path to save the model file (e.g., 'model.pkl')\n",
    "    \"\"\"\n",
    "    joblib.dump(model, filename)\n",
    "    print(f\"Model saved to {filename}\")"
   ]
  },
  {
   "cell_type": "markdown",
   "id": "e4de1adc",
   "metadata": {},
   "source": [
    "## SVR"
   ]
  },
  {
   "cell_type": "code",
   "execution_count": null,
   "id": "ff3da26d",
   "metadata": {},
   "outputs": [],
   "source": [
    "from sklearn.metrics import mean_absolute_error, r2_score, median_absolute_error\n",
    "from sklearn.metrics import mean_squared_error\n",
    "from sklearn.model_selection import RandomizedSearchCV, train_test_split\n",
    "from sklearn.neighbors import KNeighborsRegressor\n",
    "from sklearn.svm import SVR\n",
    "import numpy as np\n",
    "\n",
    "X = np.stack(df_train[\"product_name_vector\"].values)\n",
    "y = df_train[\"weight_kg\"]\n",
    "\n",
    "X_train, X_test, y_train, y_test = train_test_split(\n",
    "    X, y, test_size=0.2, random_state=42\n",
    ")"
   ]
  },
  {
   "cell_type": "code",
   "execution_count": 22,
   "id": "390d6241",
   "metadata": {},
   "outputs": [
    {
     "name": "stdout",
     "output_type": "stream",
     "text": [
      "Fitting 5 folds for each of 80 candidates, totalling 400 fits\n",
      "Best parameters: {'kernel': 'rbf', 'gamma': 1, 'epsilon': 0.01, 'C': 1000}\n",
      "Best CV score: 42.65496261680302\n"
     ]
    }
   ],
   "source": [
    "# busqueda aleatoria de hiperparametros\n",
    "param_dist = {\n",
    "    \"C\": [0.1, 1, 10, 100, 1000],\n",
    "    \"gamma\": [\"scale\", \"auto\", 0.001, 0.01, 0.1, 1],\n",
    "    \"epsilon\": [0.01, 0.1, 0.2, 0.5, 1],\n",
    "    \"kernel\": [\"rbf\", \"linear\"],\n",
    "}\n",
    "random_search = RandomizedSearchCV(\n",
    "    SVR(),\n",
    "    param_distributions=param_dist,\n",
    "    n_iter=80,\n",
    "    scoring=\"neg_mean_squared_error\",\n",
    "    cv=5,\n",
    "    verbose=2,\n",
    "    random_state=42,\n",
    "    n_jobs=-1,\n",
    ")\n",
    "random_search.fit(X_train, y_train)\n",
    "\n",
    "print(\"Best parameters:\", random_search.best_params_)\n",
    "print(\"Best CV score:\", -random_search.best_score_)"
   ]
  },
  {
   "cell_type": "code",
   "execution_count": null,
   "id": "c0f4f51e",
   "metadata": {},
   "outputs": [
    {
     "name": "stdout",
     "output_type": "stream",
     "text": [
      "SVR Model Performance Report:\n",
      "Mean Squared Error (MSE): 20.2253\n",
      "Mean Absolute Error (MAE): 2.8318\n",
      "Median Absolute Error: 2.1865\n",
      "R^2 Score: 0.7842\n"
     ]
    }
   ],
   "source": [
    "def show_model_metrics(y_test, y_pred):\n",
    "    # Calculate metrics for SVR model\n",
    "    mse = mean_squared_error(y_test, y_pred)\n",
    "    mae = mean_absolute_error(y_test, y_pred)\n",
    "    medae = median_absolute_error(y_test, y_pred)\n",
    "    r2 = r2_score(y_test, y_pred)\n",
    "\n",
    "    print(\"SVR Model Performance Report:\")\n",
    "    print(f\"Mean Squared Error (MSE): {mse:.4f}\")\n",
    "    print(f\"Mean Absolute Error (MAE): {mae:.4f}\")\n",
    "    print(f\"Median Absolute Error: {medae:.4f}\")\n",
    "    print(f\"R^2 Score: {r2:.4f}\")\n",
    "\n",
    "\n",
    "# Predict and evaluate\n",
    "y_pred = random_search.predict(X_test)\n",
    "show_model_metrics(y_test, y_pred)"
   ]
  },
  {
   "cell_type": "code",
   "execution_count": 74,
   "id": "4d2d4777",
   "metadata": {},
   "outputs": [
    {
     "data": {
      "text/html": [
       "<div>\n",
       "<style scoped>\n",
       "    .dataframe tbody tr th:only-of-type {\n",
       "        vertical-align: middle;\n",
       "    }\n",
       "\n",
       "    .dataframe tbody tr th {\n",
       "        vertical-align: top;\n",
       "    }\n",
       "\n",
       "    .dataframe thead th {\n",
       "        text-align: right;\n",
       "    }\n",
       "</style>\n",
       "<table border=\"1\" class=\"dataframe\">\n",
       "  <thead>\n",
       "    <tr style=\"text-align: right;\">\n",
       "      <th></th>\n",
       "      <th>y_test</th>\n",
       "      <th>y_pred_svr</th>\n",
       "      <th>category_name</th>\n",
       "      <th>product_name</th>\n",
       "    </tr>\n",
       "  </thead>\n",
       "  <tbody>\n",
       "    <tr>\n",
       "      <th>24</th>\n",
       "      <td>9.97920</td>\n",
       "      <td>4.865943</td>\n",
       "      <td>All Area Rugs</td>\n",
       "      <td>Emma + Oliver 6'x9' Contemporary Swirl Plush P...</td>\n",
       "    </tr>\n",
       "    <tr>\n",
       "      <th>25</th>\n",
       "      <td>1.81440</td>\n",
       "      <td>5.176052</td>\n",
       "      <td>Comforter Sets</td>\n",
       "      <td>HIG Light Weight Down Alternative Comforter Se...</td>\n",
       "    </tr>\n",
       "    <tr>\n",
       "      <th>17</th>\n",
       "      <td>57.38040</td>\n",
       "      <td>53.940723</td>\n",
       "      <td>7 Piece Patio Dining Set</td>\n",
       "      <td>WestinTrends Malibu 7 Piece Adirondack Outdoor...</td>\n",
       "    </tr>\n",
       "    <tr>\n",
       "      <th>10</th>\n",
       "      <td>3.44736</td>\n",
       "      <td>1.543671</td>\n",
       "      <td>Colored Sheets</td>\n",
       "      <td>Bare Home Cozy Fleece Sheet Set - Extra Plush ...</td>\n",
       "    </tr>\n",
       "    <tr>\n",
       "      <th>4</th>\n",
       "      <td>0.11340</td>\n",
       "      <td>6.194388</td>\n",
       "      <td>Native Deodorant</td>\n",
       "      <td>(2 pack) Native Deodorant, Coconut &amp; Vanilla, ...</td>\n",
       "    </tr>\n",
       "  </tbody>\n",
       "</table>\n",
       "</div>"
      ],
      "text/plain": [
       "      y_test  y_pred_svr             category_name  \\\n",
       "24   9.97920    4.865943             All Area Rugs   \n",
       "25   1.81440    5.176052            Comforter Sets   \n",
       "17  57.38040   53.940723  7 Piece Patio Dining Set   \n",
       "10   3.44736    1.543671            Colored Sheets   \n",
       "4    0.11340    6.194388          Native Deodorant   \n",
       "\n",
       "                                         product_name  \n",
       "24  Emma + Oliver 6'x9' Contemporary Swirl Plush P...  \n",
       "25  HIG Light Weight Down Alternative Comforter Se...  \n",
       "17  WestinTrends Malibu 7 Piece Adirondack Outdoor...  \n",
       "10  Bare Home Cozy Fleece Sheet Set - Extra Plush ...  \n",
       "4   (2 pack) Native Deodorant, Coconut & Vanilla, ...  "
      ]
     },
     "execution_count": 74,
     "metadata": {},
     "output_type": "execute_result"
    }
   ],
   "source": [
    "# Create a DataFrame to compare y_test, y_pred, and category\n",
    "comparison_df = pd.DataFrame(\n",
    "    {\n",
    "        \"y_test\": y_test.values,\n",
    "        \"y_pred_svr\": y_pred,\n",
    "        \"category_name\": df_train.loc[y_test.index, \"category_name\"].values,\n",
    "        \"product_name\": df_train.loc[y_test.index, \"product_name\"].values,\n",
    "    }\n",
    ")\n",
    "comparison_df.sample(5)"
   ]
  },
  {
   "cell_type": "code",
   "execution_count": 100,
   "id": "abc741d4",
   "metadata": {},
   "outputs": [],
   "source": [
    "save=False\n",
    "if save==True:\n",
    "    save_model(random_search, \"../models/trained_models/weight_model_svr.pkl\")"
   ]
  },
  {
   "cell_type": "markdown",
   "id": "82f65132",
   "metadata": {},
   "source": [
    "## KNN"
   ]
  },
  {
   "cell_type": "code",
   "execution_count": 92,
   "id": "b2d60976",
   "metadata": {},
   "outputs": [
    {
     "name": "stdout",
     "output_type": "stream",
     "text": [
      "Best KNN parameters: {'weights': 'distance', 'p': 1, 'n_neighbors': 5}\n",
      "Best KNN CV score: 52.90118498852122\n"
     ]
    }
   ],
   "source": [
    "# Define parameter grid for KNN\n",
    "param_dist_knn = {\n",
    "    \"n_neighbors\": [3, 5, 7, 9, 13, 15, 19, 25],\n",
    "    \"weights\": [\"uniform\", \"distance\"],\n",
    "    \"p\": [1, 2],  # 1: Manhattan, 2: Euclidean\n",
    "}\n",
    "\n",
    "# Randomized search for KNN\n",
    "random_search_knn = RandomizedSearchCV(\n",
    "    KNeighborsRegressor(),\n",
    "    param_distributions=param_dist_knn,\n",
    "    n_iter=30,\n",
    "    scoring=\"neg_mean_squared_error\",\n",
    "    cv=5,\n",
    "    random_state=42,\n",
    "    n_jobs=-1,\n",
    ")\n",
    "random_search_knn.fit(X_train, y_train)\n",
    "\n",
    "print(\"Best KNN parameters:\", random_search_knn.best_params_)\n",
    "print(\"Best KNN CV score:\", -random_search_knn.best_score_)"
   ]
  },
  {
   "cell_type": "code",
   "execution_count": 85,
   "id": "9a4c67df",
   "metadata": {},
   "outputs": [
    {
     "name": "stdout",
     "output_type": "stream",
     "text": [
      "SVR Model Performance Report:\n",
      "Mean Squared Error (MSE): 38.8833\n",
      "Mean Absolute Error (MAE): 3.7111\n",
      "Median Absolute Error: 1.7446\n",
      "R^2 Score: 0.5852\n"
     ]
    }
   ],
   "source": [
    "# Predict and evaluate\n",
    "y_pred_knn = random_search_knn.predict(X_test)\n",
    "show_model_metrics(y_test, y_pred_knn)"
   ]
  },
  {
   "cell_type": "code",
   "execution_count": null,
   "id": "1674a568",
   "metadata": {},
   "outputs": [
    {
     "name": "stdout",
     "output_type": "stream",
     "text": [
      "Model saved to ../models/trained_models/weight_model_knn.pkl\n"
     ]
    }
   ],
   "source": [
    "save=False\n",
    "if save==True:\n",
    "    save_model(random_search_knn, \"../models/trained_models/weight_model_knn.pkl\")"
   ]
  },
  {
   "cell_type": "markdown",
   "id": "9d07b627",
   "metadata": {},
   "source": [
    "# test api"
   ]
  },
  {
   "cell_type": "code",
   "execution_count": null,
   "id": "4972b923",
   "metadata": {},
   "outputs": [
    {
     "name": "stdout",
     "output_type": "stream",
     "text": [
      "That's a great question, but there isn't a single, universally \"average\" weight for a piece of clothing because the weight varies enormously based on several factors:\n",
      "\n",
      "1.  **Type of Garment:** A sock is vastly different from a winter coat.\n",
      "2.  **Material:** Cotton, wool, denim, silk, polyester, linen all have different densities and weights.\n",
      "3.  **Size:** A small T-shirt weighs less than an XL T-shirt.\n",
      "4.  **Thickness/Construction:** A light summer dress vs. a heavy, lined winter dress.\n",
      "\n",
      "However, I can give you some typical ranges for common items:\n",
      "\n",
      "*   **Very Light (20-100 grams / 0.7-3.5 oz):**\n",
      "    *   Underwear, socks, silk scarf, thin camisole.\n",
      "*   **Light (100-300 grams / 3.5-10.5 oz):**\n",
      "    *   T-shirt, tank top, light blouse, thin pajamas.\n",
      "*   **Medium (300-800 grams / 10.5 oz - 1.7 lbs):**\n",
      "    *   Jeans, dress shirt, light sweater, summer dress, tracksuit bottoms, light jacket.\n",
      "*   **Heavy (800 grams - 2 kg / 1.7 - 4.4 lbs):**\n",
      "    *   Denim jacket, thick sweater, winter jeans, medium weight jacket, heavy dress.\n",
      "*   **Very Heavy (2 kg+ / 4.4 lbs+):**\n",
      "    *   Winter coat, ski jacket, thick wool trench coat.\n",
      "\n",
      "If you were to take a **very broad \"average\" from a typical mixed wardrobe**, you might find that many individual items fall in the **300-700 gram (0.7-1.5 lb)** range, largely driven by the prevalence of items like jeans, t-shirts, and light sweaters. But again, this is a highly generalized figure.\n",
      "\n",
      "**To give you a better answer, it would help to know why you're asking!** (e.g., for shipping costs, laundry load estimation, etc.)\n"
     ]
    }
   ],
   "source": [
    "api_key = os.getenv(\"api_key\")\n",
    "client = genai.Client(api_key=api_key)\n",
    "\n",
    "response = client.models.generate_content(\n",
    "    model=\"gemini-2.5-flash\",\n",
    "    contents=\"\"\"What is the average weight of a piece of clothing.\"\"\",\n",
    ")\n",
    "print(response.text)"
   ]
  }
 ],
 "metadata": {
  "kernelspec": {
   "display_name": ".venv",
   "language": "python",
   "name": "python3"
  },
  "language_info": {
   "codemirror_mode": {
    "name": "ipython",
    "version": 3
   },
   "file_extension": ".py",
   "mimetype": "text/x-python",
   "name": "python",
   "nbconvert_exporter": "python",
   "pygments_lexer": "ipython3",
   "version": "3.13.7"
  }
 },
 "nbformat": 4,
 "nbformat_minor": 5
}
